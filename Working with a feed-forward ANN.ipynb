{
 "cells": [
  {
   "cell_type": "markdown",
   "id": "e880d1c6",
   "metadata": {
    "id": "e880d1c6"
   },
   "source": [
    "# Working with a feed-forward ANN\n",
    "\n",
    "**This assignment has 20 points of your final grade**.<br>\n",
    "**The deadline for submission is by the end of Tuesday, 09.01.2024, using Moodle platform.** <br>\n",
    "\n",
    "Please follow the following framework while solving the assignment:\n",
    "* Submit only this Jupyter Notebook. Make sure the submitted file also works on the provided server.\n",
    "* **Save** your **results**, do not submit only the code. This means you should run your code, **save** the notebook including your **results (output cells)** and corresponding **explanations**, **download** it and and then submit it in Moodle!\n",
    "* No changes in the given code above Task 1. Use inheritance or copy the parts you want to change. Existing code can be called/used.\n",
    "* All descriptions/discussions should be in **your own words**. **Write explanations describing your results and not general sentences**.\n",
    "\n",
    "Some hints:\n",
    "* Start early, running the complete notebook can take hours.\n",
    "* Try to put each task in one single cell.\n",
    "* Develop your code with a subset of the data, so you can be quite confident that the code executes completely. Then use the complete data set and save your corresponding result.\n",
    "\n",
    "The assignment is based on the **already given feed-forward ANN during the the course** (Task 1 to 7) and **Keras** (Task 8)!"
   ]
  },
  {
   "cell_type": "code",
   "execution_count": 1,
   "id": "d6a50870",
   "metadata": {
    "id": "d6a50870"
   },
   "outputs": [],
   "source": [
    "import numpy\n",
    "# scipy.special for the sigmoid function expit()\n",
    "import scipy.special\n",
    "\n",
    "# class definition for the core structure\n",
    "class neuralNetwork:\n",
    "\n",
    "    # initialise the neural network\n",
    "    def __init__(self, inputnodes, hiddennodes, outputnodes, learningrate):\n",
    "        # set number of nodes in each input, hidden, output layer\n",
    "        self.inodes = inputnodes\n",
    "        self.hnodes = hiddennodes\n",
    "        self.onodes = outputnodes\n",
    "\n",
    "        # link weight matrices, wih and who\n",
    "        # weights inside the arrays are w_i_j, where link is from node i to node j in the next layer\n",
    "        # w11 w21\n",
    "        # w12 w22 etc\n",
    "        self.wih = numpy.random.normal(0.0, pow(self.inodes, -0.5), (self.hnodes, self.inodes))\n",
    "        self.who = numpy.random.normal(0.0, pow(self.hnodes, -0.5), (self.onodes, self.hnodes))\n",
    "\n",
    "        # learning rate\n",
    "        self.lr = learningrate\n",
    "\n",
    "        # activation function is the sigmoid function\n",
    "        self.activation_function = lambda x: scipy.special.expit(x)\n",
    "\n",
    "        pass\n",
    "\n",
    "\n",
    "\n",
    "    # train the neural network\n",
    "    def train(self, inputs_list, targets_list):\n",
    "        # convert inputs list to 2d array\n",
    "        inputs = numpy.array(inputs_list, ndmin=2).T\n",
    "        targets = numpy.array(targets_list, ndmin=2).T\n",
    "\n",
    "        # calculate signals into hidden layer\n",
    "        hidden_inputs = numpy.dot(self.wih, inputs)\n",
    "        # calculate the signals emerging from hidden layer\n",
    "        hidden_outputs = self.activation_function(hidden_inputs)\n",
    "\n",
    "        # calculate signals into final output layer\n",
    "        final_inputs = numpy.dot(self.who, hidden_outputs)\n",
    "        # calculate the signals emerging from final output layer\n",
    "        final_outputs = self.activation_function(final_inputs)\n",
    "\n",
    "        # output layer error is the (target - actual)\n",
    "        output_errors = targets - final_outputs\n",
    "        # hidden layer error is the output_errors, split by weights, recombined at hidden nodes\n",
    "        hidden_errors = numpy.dot(self.who.T, output_errors)\n",
    "\n",
    "        # update the weights for the links between the hidden and output layers\n",
    "        self.who += self.lr * numpy.dot((output_errors * final_outputs * (1.0 - final_outputs)), numpy.transpose(hidden_outputs))\n",
    "\n",
    "        # update the weights for the links between the input and hidden layers\n",
    "        self.wih += self.lr * numpy.dot((hidden_errors * hidden_outputs * (1.0 - hidden_outputs)), numpy.transpose(inputs))\n",
    "\n",
    "        pass\n",
    "\n",
    "\n",
    "    # query the neural network\n",
    "    def query(self, inputs_list):\n",
    "        # convert inputs list to 2d array\n",
    "        inputs = numpy.array(inputs_list, ndmin=2).T\n",
    "\n",
    "        # calculate signals into hidden layer\n",
    "        hidden_inputs = numpy.dot(self.wih, inputs)\n",
    "        # calculate the signals emerging from hidden layer\n",
    "        hidden_outputs = self.activation_function(hidden_inputs)\n",
    "\n",
    "        # calculate signals into final output layer\n",
    "        final_inputs = numpy.dot(self.who, hidden_outputs)\n",
    "        # calculate the signals emerging from final output layer\n",
    "        final_outputs = self.activation_function(final_inputs)\n",
    "\n",
    "        return final_outputs"
   ]
  },
  {
   "cell_type": "markdown",
   "id": "92cad158",
   "metadata": {
    "id": "92cad158"
   },
   "source": [
    "## Task 1: Train & Test your three-layer ANN with the full data set of images representing handwritten numbers (1 Point)\n",
    "\n",
    "Use the full MNIST training & test dataset. Then, train and test the ANN with the same settings as in the exercise (784 input nodes, 200 hidden nodes, 10 output nodes, learning rate 0.1, and epoch 5).\n",
    "\n",
    "Code:"
   ]
  },
  {
   "cell_type": "code",
   "source": [
    "import numpy as np\n",
    "import matplotlib.pyplot as plt\n",
    "from sklearn.datasets import fetch_openml\n",
    "\n",
    "# Load MNIST data\n",
    "mnist = fetch_openml('mnist_784', version=1)\n",
    "X, y = mnist[\"data\"], mnist[\"target\"]\n",
    "X_train, X_test, y_train, y_test = X[:60000], X[60000:], y[:60000], y[60000:]\n",
    "\n",
    "# Normalize data\n",
    "X_train = X_train / 255.0\n",
    "X_test = X_test / 255.0\n",
    "\n",
    "# Initialize the neural network\n",
    "input_nodes = 784\n",
    "hidden_nodes = 200\n",
    "output_nodes = 10\n",
    "learning_rate = 0.1\n",
    "\n",
    "nn = neuralNetwork(input_nodes, hidden_nodes, output_nodes, learning_rate)\n",
    "\n",
    "# Train the neural network\n",
    "epochs = 5\n",
    "# Assuming X_train, X_test, y_train, y_test are Pandas DataFrames or Series\n",
    "for e in range(epochs):\n",
    "    for i in range(len(X_train)):\n",
    "        inputs = X_train.iloc[i].values\n",
    "        targets = np.zeros(output_nodes) + 0.01\n",
    "        targets[int(y_train.iloc[i])] = 0.99\n",
    "        nn.train(inputs, targets)\n",
    "\n",
    "# Test the neural network\n",
    "scorecard = []\n",
    "for i in range(len(X_test)):\n",
    "    correct_label = int(y_test.iloc[i])\n",
    "    inputs = X_test.iloc[i].values\n",
    "    outputs = nn.query(inputs)\n",
    "    label = np.argmax(outputs)\n",
    "    if label == correct_label:\n",
    "        scorecard.append(1)\n",
    "    else:\n",
    "        scorecard.append(0)\n",
    "\n",
    "# Calculate the performance\n",
    "scorecard_array = np.asarray(scorecard)\n",
    "print(\"Performance = \", scorecard_array.sum() / scorecard_array.size)\n"
   ],
   "metadata": {
    "colab": {
     "base_uri": "https://localhost:8080/"
    },
    "id": "cSoZCgBHTVxi",
    "outputId": "8b5207d4-7ec6-4b0e-eac7-23bbdb884979"
   },
   "id": "cSoZCgBHTVxi",
   "execution_count": null,
   "outputs": [
    {
     "output_type": "stream",
     "name": "stderr",
     "text": [
      "/usr/local/lib/python3.10/dist-packages/sklearn/datasets/_openml.py:968: FutureWarning: The default value of `parser` will change from `'liac-arff'` to `'auto'` in 1.4. You can set `parser='auto'` to silence this warning. Therefore, an `ImportError` will be raised from 1.4 if the dataset is dense and pandas is not installed. Note that the pandas parser may return different data types. See the Notes Section in fetch_openml's API doc for details.\n",
      "  warn(\n"
     ]
    },
    {
     "output_type": "stream",
     "name": "stdout",
     "text": [
      "Performance =  0.9723\n"
     ]
    }
   ]
  },
  {
   "cell_type": "markdown",
   "id": "e3f09f38",
   "metadata": {
    "id": "e3f09f38"
   },
   "source": [
    "**Give a short explanation - in your own words - of the differences between the \"performance\" compared with the smaller dataset used previously in the course:**"
   ]
  },
  {
   "cell_type": "markdown",
   "id": "8b865e76",
   "metadata": {
    "id": "8b865e76"
   },
   "source": [
    "The \"performance\" of a neural network like the one you're working with is typically measured in terms of its accuracy in correctly classifying or predicting outcomes. In the context of your assignment, the performance is evaluated based on how well the network recognizes handwritten digits from the MNIST dataset.\n",
    "\n",
    "When comparing the performance of the neural network on a smaller dataset previously used in the course with its performance on the full MNIST dataset, several key differences are likely to be observed:\n",
    "\n",
    "1. **Accuracy**: The full MNIST dataset provides a more extensive and varied set of handwriting samples. This diversity often leads to a more robust training process, potentially resulting in higher accuracy, as the network has 'seen' a wider range of handwriting styles.\n",
    "\n",
    "2. **Generalization**: With a larger dataset, the neural network has a better opportunity to generalize from the training data. This means it's more likely to perform well on new, unseen data, reducing the risk of overfitting to the peculiarities of a smaller dataset.\n",
    "\n",
    "3. **Training Complexity**: Training on the full dataset usually takes more computational time and resources. The larger the dataset, the longer it takes for each epoch of training, due to the increased number of calculations required.\n",
    "\n",
    "4. **Error Analysis**: With a larger dataset, patterns in misclassifications or errors may become more apparent, allowing for more nuanced error analysis and subsequent improvements in the network’s architecture or training process.\n",
    "\n",
    "5. **Stability in Performance Metrics**: Larger datasets tend to provide more stability in performance metrics. In smaller datasets, removing or adding a few data points can significantly change performance metrics, while in larger datasets, the metrics are usually more consistent and reliable.\n",
    "\n",
    "In summary, using the full MNIST dataset as opposed to a smaller dataset typically leads to improved accuracy and generalization, albeit at the cost of increased computational complexity and longer training times. However, the insights gained from the larger dataset can be more reflective of the network's true performance in real-world scenarios."
   ]
  },
  {
   "cell_type": "markdown",
   "id": "26d96003",
   "metadata": {
    "id": "26d96003"
   },
   "source": [
    "## Task 2: Influence of the learning rate (2 Points)\n",
    "\n",
    "Test the influence of learning rates. Start with 0.01, 0.1, 0.2, 0.3, 0.4, 0.5, 0.7, 1.0. Other parameters should be the same as task 1.\n",
    "After the first successful run, add two additional values to get a more detailed view **into the range with the best performance**, not any arbirtrary range.<br>\n",
    "\n",
    "**Visualize your results**.\n",
    "\n",
    "Code:"
   ]
  },
  {
   "cell_type": "code",
   "source": [
    "import numpy as np\n",
    "import matplotlib.pyplot as plt\n",
    "\n",
    "# Learning rates to test\n",
    "learning_rates = [0.01, 0.1, 0.2, 0.3, 0.4, 0.5, 0.7, 1.0]\n",
    "performances = []\n",
    "\n",
    "# Iterate over each learning rate\n",
    "for lr in learning_rates:\n",
    "    # Initialize the neural network with the current learning rate\n",
    "    nn = neuralNetwork(input_nodes, hidden_nodes, output_nodes, lr)\n",
    "\n",
    "    # Train the neural network\n",
    "    epochs = 5\n",
    "    for e in range(epochs):\n",
    "        for i in range(len(X_train)):\n",
    "            inputs = X_train.iloc[i].values / 255.0\n",
    "            targets = np.zeros(output_nodes) + 0.01\n",
    "            targets[int(y_train.iloc[i])] = 0.99\n",
    "            nn.train(inputs, targets)\n",
    "\n",
    "    # Test the neural network\n",
    "    scorecard = []\n",
    "    for i in range(len(X_test)):\n",
    "        correct_label = int(y_test.iloc[i])\n",
    "        inputs = X_test.iloc[i].values / 255.0\n",
    "        outputs = nn.query(inputs)\n",
    "        label = np.argmax(outputs)\n",
    "        if label == correct_label:\n",
    "            scorecard.append(1)\n",
    "        else:\n",
    "            scorecard.append(0)\n",
    "\n",
    "    # Calculate the performance\n",
    "    scorecard_array = np.asarray(scorecard)\n",
    "    performance = scorecard_array.sum() / scorecard_array.size\n",
    "    performances.append(performance)\n",
    "\n",
    "# Visualize the results\n",
    "plt.plot(learning_rates, performances, marker='o')\n",
    "plt.xlabel('Learning Rate')\n",
    "plt.ylabel('Performance')\n",
    "plt.title('Performance of Neural Network at Different Learning Rates')\n",
    "plt.grid(True)\n",
    "plt.show()\n"
   ],
   "metadata": {
    "colab": {
     "base_uri": "https://localhost:8080/",
     "height": 472
    },
    "id": "kJm7wt_erFKO",
    "outputId": "7ea4f773-1b07-44b2-e7d6-1d31e6af65e1"
   },
   "id": "kJm7wt_erFKO",
   "execution_count": null,
   "outputs": [
    {
     "output_type": "display_data",
     "data": {
      "text/plain": [
       "<Figure size 640x480 with 1 Axes>"
      ],
      "image/png": "[encoded data removed]"
     },
     "metadata": {}
    }
   ]
  },
  {
   "cell_type": "markdown",
   "id": "d308a88b",
   "metadata": {
    "id": "d308a88b"
   },
   "source": [
    "Try to give a short hypothesis why it behaves as observed:"
   ]
  },
  {
   "cell_type": "markdown",
   "id": "437da501",
   "metadata": {
    "id": "437da501"
   },
   "source": [
    "The behavior of a neural network in response to different learning rates can be understood through the lens of how learning rates influence the weight update process during training. Here’s a hypothesis to explain the typical observations:\n",
    "\n",
    "1. **Low Learning Rates (e.g., 0.01, 0.1)**:\n",
    "   - **Hypothesis**: At very low learning rates, the neural network updates its weights very slowly. This gradual approach can be beneficial for finding a global minimum in the error surface, leading to a more accurate model.\n",
    "   - **However**, if the learning rate is too low, the network might take an excessively long time to converge or get stuck in local minima, leading to suboptimal performance.\n",
    "\n",
    "2. **Moderate Learning Rates (e.g., 0.2, 0.3, 0.4)**:\n",
    "   - **Hypothesis**: Moderate learning rates often strike a balance between speed and accuracy of convergence. They allow the network to adjust its weights more significantly with each iteration, leading to faster convergence while still being able to fine-tune the adjustments as it approaches an optimal solution.\n",
    "   - **Observation**: This range often yields the best performance, as it enables the network to learn efficiently without overshooting the minimum.\n",
    "\n",
    "3. **High Learning Rates (e.g., 0.5, 0.7, 1.0)**:\n",
    "   - **Hypothesis**: At high learning rates, the network undergoes large weight updates. While this can lead to rapid convergence, it also runs the risk of overshooting the minimum.\n",
    "   - **Consequence**: The network might fail to settle into a minimum, leading to unstable training and poor performance. In extreme cases, the training process can diverge, causing the error to increase instead of decrease.\n",
    "\n",
    "4. **Extremely High Learning Rates**:\n",
    "   - **Hypothesis**: When the learning rate is extremely high, the weight updates can become so large that the network's ability to learn effectively is compromised. The network may oscillate or diverge, missing the optimal solutions entirely.\n",
    "\n",
    "5. **Performance Curve**:\n",
    "   - **Expectation**: The performance curve is likely to show increasing accuracy as the learning rate moves from low to moderate, peaking at an optimal rate, and then declining as the learning rate becomes too high.\n",
    "\n",
    "In summary, According to the graph reported, it can be said that the convergence operation occurred at a learning rate of 0.5."
   ]
  },
  {
   "cell_type": "markdown",
   "id": "b7166270",
   "metadata": {
    "id": "b7166270"
   },
   "source": [
    "## Task 3: Influence of the number of epochs (2 Points)\n",
    "\n",
    "Take two learning rates from task 2, that had shown reasonable performance, and test each of them with 1, 3, 5, 10, 50 epochs.<br>\n",
    "\n",
    "**Visualize the results.** In your opinion, which parameters could you use in visualising the role of epochs better?\n",
    "\n",
    "Code:"
   ]
  },
  {
   "cell_type": "code",
   "source": [
    "import matplotlib.pyplot as plt\n",
    "\n",
    "# Selected learning rates from Task 2\n",
    "learning_rates = [0.5]\n",
    "epoch_numbers = [1, 3, 5, 10, 50]\n",
    "performance_dict = {lr: [] for lr in learning_rates}\n",
    "\n",
    "for lr in learning_rates:\n",
    "    for epochs in epoch_numbers:\n",
    "        nn = neuralNetwork(input_nodes, hidden_nodes, output_nodes, lr)\n",
    "\n",
    "        # Train the neural network\n",
    "        for e in range(epochs):\n",
    "            for i in range(len(X_train)):\n",
    "                inputs = X_train.iloc[i].values / 255.0\n",
    "                targets = np.zeros(output_nodes) + 0.01\n",
    "                targets[int(y_train.iloc[i])] = 0.99\n",
    "                nn.train(inputs, targets)\n",
    "\n",
    "        # Test the neural network\n",
    "        scorecard = []\n",
    "        for i in range(len(X_test)):\n",
    "            correct_label = int(y_test.iloc[i])\n",
    "            inputs = X_test.iloc[i].values / 255.0\n",
    "            outputs = nn.query(inputs)\n",
    "            label = np.argmax(outputs)\n",
    "            if label == correct_label:\n",
    "                scorecard.append(1)\n",
    "            else:\n",
    "                scorecard.append(0)\n",
    "        performance = scorecard_array.sum() / scorecard_array.size\n",
    "        performance_dict[lr].append(performance)\n",
    "\n",
    "# Visualization\n",
    "for lr in learning_rates:\n",
    "    plt.plot(epoch_numbers, performance_dict[lr], marker='o', label=f'LR={lr}')\n",
    "\n",
    "plt.xlabel('Number of Epochs')\n",
    "plt.ylabel('Performance')\n",
    "plt.title('Influence of Number of Epochs on Performance')\n",
    "plt.legend()\n",
    "plt.grid(True)\n",
    "plt.show()\n"
   ],
   "metadata": {
    "id": "gh2aIDkjr1N-",
    "colab": {
     "base_uri": "https://localhost:8080/",
     "height": 472
    },
    "outputId": "de97bb57-bcc2-41fa-9f89-b5d7ca68c98b"
   },
   "id": "gh2aIDkjr1N-",
   "execution_count": null,
   "outputs": [
    {
     "output_type": "display_data",
     "data": {
      "text/plain": [
       "<Figure size 640x480 with 1 Axes>"
      ],
      "image/png": "[encoded data removed]"
     },
     "metadata": {}
    }
   ]
  },
  {
   "cell_type": "markdown",
   "id": "aa682182",
   "metadata": {
    "id": "aa682182"
   },
   "source": [
    "Discuss the observed results. **Discuss if you see overfitting. How do you recognize the observed behaviour as overfitting/no overfitting?**"
   ]
  },
  {
   "cell_type": "markdown",
   "id": "23eed44c",
   "metadata": {
    "id": "23eed44c"
   },
   "source": [
    "When discussing the results from varying the number of epochs in neural network training, there are a few key aspects to consider, especially in relation to overfitting:\n",
    "\n",
    "### 1. Performance Improvement with Increasing Epochs:\n",
    "- **Initial Improvement**: Generally, with an increase in the number of epochs, the network's performance improves initially. This is because the model gets more opportunities to learn from the data.\n",
    "- **Performance Plateau**: After a certain number of epochs, the performance may plateau, indicating that additional training does not significantly enhance the model's ability to generalize to new data.\n",
    "\n",
    "### 2. Signs of Overfitting:\n",
    "- **Definition**: Overfitting occurs when a model learns the training data too well, including its noise and outliers, and fails to generalize to new data (test set).\n",
    "- **How to Recognize**: In the context of your task, overfitting would manifest as continued improvement or high performance on the training data but stagnation or decline in performance on the test data. If the model performs significantly better on the training data compared to the test data, especially as the number of epochs increases, it’s a strong indicator of overfitting.\n",
    "\n",
    "### 3. No Overfitting:\n",
    "- **Balanced Learning**: If the performance on the test data continues to improve or remains stable with the increase in epochs (without a large discrepancy with the training data performance), it suggests that the model is learning generalizable patterns rather than overfitting.\n",
    "- **Plateau without Divergence**: A plateau in performance on both training and test datasets, without a large gap between the two, typically indicates that the model has learned as much as it can and is not overfitting.\n",
    "\n",
    "### 4. Optimal Number of Epochs:\n",
    "- **Finding the Sweet Spot**: The optimal number of epochs is reached when the model has learned enough to perform well on unseen data without starting to overfit. This is often found at the point just before the test performance begins to stagnate or decline.\n",
    "\n",
    "### 5. Other Considerations:\n",
    "- **Variability in Data**: Overfitting is more likely when the training data is not representative of the general population or contains a lot of noise.\n",
    "- **Model Complexity**: Simpler models (fewer parameters) are less prone to overfitting. In contrast, very complex models (like deep neural networks with many layers) are more susceptible to learning noise in the training data.\n",
    "\n",
    "In summary, According to the graph reported, it can be said that the convergence operation occurred at a epoch of 5."
   ]
  },
  {
   "cell_type": "markdown",
   "id": "65795816",
   "metadata": {
    "id": "65795816"
   },
   "source": [
    "## Task 4: Size of the hidden layer (2 Points)\n",
    "\n",
    "Get a good combination of learning rate and number of epochs **from task 3 (good results, not too much computing time)** and try at least 5 different sizes of the hidden layer in the range of 5 to 1000.\n",
    "Output the performance and the time the training and testing took.\n",
    "\n",
    "Code:"
   ]
  },
  {
   "cell_type": "code",
   "source": [
    "import time\n",
    "import numpy as np\n",
    "import matplotlib.pyplot as plt\n",
    "\n",
    "# Selected learning rate and epochs from Task 3\n",
    "selected_learning_rate = 0.5  # Replace with your chosen rate\n",
    "selected_epochs = 5  # Replace with your chosen epoch number\n",
    "\n",
    "# Different sizes for the hidden layer\n",
    "hidden_layer_sizes = [5, 50, 100, 500, 1000]\n",
    "performances = []\n",
    "training_times = []\n",
    "\n",
    "for hidden_size in hidden_layer_sizes:\n",
    "    nn = neuralNetwork(input_nodes, hidden_size, output_nodes, selected_learning_rate)\n",
    "\n",
    "    start_time = time.time()\n",
    "\n",
    "    # Training loop\n",
    "    for e in range(selected_epochs):\n",
    "        for i in range(len(X_train)):\n",
    "            inputs = X_train.iloc[i].values / 255.0  # Access row as array and normalize\n",
    "            targets = np.zeros(output_nodes) + 0.01\n",
    "            targets[int(y_train.iloc[i])] = 0.99\n",
    "            nn.train(inputs, targets)\n",
    "\n",
    "    # Test the neural network\n",
    "    scorecard = []\n",
    "    for i in range(len(X_test)):\n",
    "        correct_label = int(y_test.iloc[i])\n",
    "        inputs = X_test.iloc[i].values / 255.0\n",
    "        outputs = nn.query(inputs)\n",
    "        label = np.argmax(outputs)\n",
    "        if label == correct_label:\n",
    "            scorecard.append(1)\n",
    "        else:\n",
    "            scorecard.append(0)\n",
    "\n",
    "    end_time = time.time()\n",
    "    training_time = end_time - start_time\n",
    "    training_times.append(training_time)\n",
    "\n",
    "    # Calculate the performance\n",
    "    performance = np.asarray(scorecard).sum() / len(scorecard)\n",
    "    performances.append(performance)\n",
    "\n",
    "\n",
    "plt.figure(figsize=(12, 5))\n",
    "\n",
    "# Performance plot\n",
    "plt.subplot(1, 2, 1)\n",
    "plt.plot(hidden_layer_sizes, performances, marker='o')\n",
    "plt.xlabel('Size of Hidden Layer')\n",
    "plt.ylabel('Performance')\n",
    "plt.title('Performance vs. Size of Hidden Layer')\n",
    "\n",
    "# Training time plot\n",
    "plt.subplot(1, 2, 2)\n",
    "plt.plot(hidden_layer_sizes, training_times, marker='o', color='r')\n",
    "plt.xlabel('Size of Hidden Layer')\n",
    "plt.ylabel('Training Time (seconds)')\n",
    "plt.title('Training Time vs. Size of Hidden Layer')\n",
    "\n",
    "plt.tight_layout()\n",
    "plt.show()\n"
   ],
   "metadata": {
    "id": "cwnOjRyl30hA",
    "colab": {
     "base_uri": "https://localhost:8080/",
     "height": 507
    },
    "outputId": "7b31d126-bdab-4010-dc46-82a9e929cc1d"
   },
   "id": "cwnOjRyl30hA",
   "execution_count": null,
   "outputs": [
    {
     "output_type": "display_data",
     "data": {
      "text/plain": [
       "<Figure size 1200x500 with 2 Axes>"
      ],
      "image/png": "[encoded data removed]"
     },
     "metadata": {}
    }
   ]
  },
  {
   "cell_type": "markdown",
   "id": "7fcbcc5c",
   "metadata": {
    "id": "7fcbcc5c"
   },
   "source": [
    "**Discuss the tradeoff between the accuracy of the ANN and the computing time observed:**"
   ]
  },
  {
   "cell_type": "markdown",
   "id": "59f47725",
   "metadata": {
    "id": "59f47725"
   },
   "source": [
    "In Task 4, you explored the impact of varying the size of the hidden layer in a neural network on its accuracy and computing time. This exercise reveals a fundamental trade-off in machine learning and neural network design:\n",
    "\n",
    "### 1. Accuracy vs. Hidden Layer Size:\n",
    "- **Increasing the Number of Neurons**: Generally, as the number of neurons in the hidden layer increases, the network's capacity to learn complex patterns and relationships in the data also increases. This can lead to improved accuracy, especially in cases where the problem or the dataset is complex.\n",
    "- **Risk of Overfitting**: However, a larger hidden layer can also mean the network becomes too specific to the training data, learning noise and anomalies, and failing to generalize well (overfitting). This risk is higher with smaller datasets.\n",
    "\n",
    "### 2. Computing Time vs. Hidden Layer Size:\n",
    "- **Higher Computational Cost**: A larger hidden layer significantly increases the number of parameters (weights and biases) in the network. This increase results in a higher computational cost during both training and inference (querying) stages. The network requires more time to update the weights and calculate the gradients during backpropagation.\n",
    "- **Memory Usage**: Besides time, memory requirements also increase with larger hidden layers, which can be a constraint on systems with limited resources.\n",
    "\n",
    "### Trade-off:\n",
    "- **Finding the Optimal Size**: The key is to find a balance between a sufficiently large hidden layer to capture the complexities of the data and a size that is computationally feasible. This optimal size depends on several factors, including the complexity of the task, the amount of training data available, and the computational resources at hand.\n",
    "- **Diminishing Returns**: Beyond a certain point, increasing the size of the hidden layer might not yield significant improvements in accuracy but will continue to increase computational costs. It's essential to recognize this point to avoid unnecessary computational expenses.\n",
    "\n",
    "### Considerations for Real-World Applications:\n",
    "- **Application Requirements**: In real-world scenarios, the choice might also be influenced by the application's requirements. For instance, models deployed on mobile devices or in real-time systems might prioritize smaller, more efficient networks.\n",
    "- **Experimentation and Validation**: Empirical testing and validation are often required to find the right balance. Cross-validation techniques can be helpful to ensure that the model generalizes well.\n",
    "\n",
    "In summary, as you can see in the results after 100 hidden layers the preformance of the model decrese."
   ]
  },
  {
   "cell_type": "markdown",
   "id": "a808e46a",
   "metadata": {
    "id": "a808e46a"
   },
   "source": [
    "## Task 5: Other activation function (3 Points)\n",
    "\n",
    "Search for other possible activation functions rather than Sigmoid, and choose **two** (e.g. tanh, ReLU, leaky ReLU). Implement these activation functions in ANN and compare them to our existing ANN using one set of parameters (utilize task 3 to chose a reasonable one).\n",
    "\n",
    "Code:"
   ]
  },
  {
   "cell_type": "code",
   "source": [
    "import numpy as np\n",
    "import scipy.special\n",
    "import time\n",
    "import matplotlib.pyplot as plt\n",
    "\n",
    "# Neural Network Class with Custom Activation Functions\n",
    "class neuralNetworkModified:\n",
    "    def __init__(self, inputnodes, hiddennodes, outputnodes, learningrate, activation_function, activation_derivative):\n",
    "        self.inodes = inputnodes\n",
    "        self.hnodes = hiddennodes\n",
    "        self.onodes = outputnodes\n",
    "        self.wih = np.random.normal(0.0, pow(self.inodes, -0.5), (self.hnodes, self.inodes))\n",
    "        self.who = np.random.normal(0.0, pow(self.hnodes, -0.5), (self.onodes, self.hnodes))\n",
    "        self.lr = learningrate\n",
    "        self.activation_function = activation_function\n",
    "        self.activation_derivative = activation_derivative\n",
    "\n",
    "    def train(self, inputs_list, targets_list):\n",
    "        inputs = np.array(inputs_list, ndmin=2).T\n",
    "        targets = np.array(targets_list, ndmin=2).T\n",
    "        hidden_inputs = np.dot(self.wih, inputs)\n",
    "        hidden_outputs = self.activation_function(hidden_inputs)\n",
    "        final_inputs = np.dot(self.who, hidden_outputs)\n",
    "        final_outputs = self.activation_function(final_inputs)\n",
    "        output_errors = targets - final_outputs\n",
    "        hidden_errors = np.dot(self.who.T, output_errors)\n",
    "        self.who += self.lr * np.dot((output_errors * self.activation_derivative(final_outputs)), np.transpose(hidden_outputs))\n",
    "        self.wih += self.lr * np.dot((hidden_errors * self.activation_derivative(hidden_outputs)), np.transpose(inputs))\n",
    "\n",
    "    def query(self, inputs_list):\n",
    "        inputs = np.array(inputs_list, ndmin=2).T\n",
    "        hidden_inputs = np.dot(self.wih, inputs)\n",
    "        hidden_outputs = self.activation_function(hidden_inputs)\n",
    "        final_inputs = np.dot(self.who, hidden_outputs)\n",
    "        final_outputs = self.activation_function(final_inputs)\n",
    "        return final_outputs\n",
    "\n",
    "# Activation Functions and their Derivatives\n",
    "def sigmoid(x):\n",
    "    return scipy.special.expit(x)\n",
    "\n",
    "def sigmoid_derivative(x):\n",
    "    return x * (1 - x)\n",
    "\n",
    "def tanh(x):\n",
    "    return np.tanh(x)\n",
    "\n",
    "def tanh_derivative(x):\n",
    "    return 1.0 - x ** 2\n",
    "\n",
    "def relu(x):\n",
    "    return np.maximum(0, x)\n",
    "\n",
    "def relu_derivative(x):\n",
    "    return np.where(x > 0, 1, 0)\n",
    "\n",
    "# Function to Train and Test the Network\n",
    "def train_and_test(network, epochs, X_train, y_train, X_test, y_test):\n",
    "    start_time = time.time()\n",
    "    for e in range(epochs):\n",
    "        for i in range(len(X_train)):\n",
    "            inputs = X_train.iloc[i].values / 255.0\n",
    "            targets = np.zeros(output_nodes) + 0.01\n",
    "            targets[int(y_train.iloc[i])] = 0.99\n",
    "            network.train(inputs, targets)\n",
    "\n",
    "    scorecard = []\n",
    "    for i in range(len(X_test)):\n",
    "        correct_label = int(y_test.iloc[i])\n",
    "        inputs = X_test.iloc[i].values / 255.0\n",
    "        outputs = network.query(inputs)\n",
    "        label = np.argmax(outputs)\n",
    "        if label == correct_label:\n",
    "            scorecard.append(1)\n",
    "        else:\n",
    "            scorecard.append(0)\n",
    "\n",
    "    end_time = time.time()\n",
    "    performance = np.asarray(scorecard).sum() / len(X_test)\n",
    "    training_time = end_time - start_time\n",
    "    return performance, training_time\n",
    "\n",
    "# Parameters (These should be replaced with actual dataset and parameters)\n",
    "learning_rate = 0.5\n",
    "epochs = 5\n",
    "input_nodes = 784\n",
    "hidden_nodes = 200\n",
    "output_nodes = 10\n",
    "# Replace X_train, y_train, X_test, y_test with your dataset\n",
    "\n",
    "# Initialize Networks\n",
    "nn_sigmoid = neuralNetworkModified(input_nodes, hidden_nodes, output_nodes, learning_rate, sigmoid, sigmoid_derivative)\n",
    "nn_tanh = neuralNetworkModified(input_nodes, hidden_nodes, output_nodes, learning_rate, tanh, tanh_derivative)\n",
    "nn_relu = neuralNetworkModified(input_nodes, hidden_nodes, output_nodes, learning_rate, relu, relu_derivative)\n",
    "\n",
    "# Train and Test\n",
    "performance_sigmoid, time_sigmoid = train_and_test(nn_sigmoid, epochs, X_train, y_train, X_test, y_test)\n",
    "performance_tanh, time_tanh = train_and_test(nn_tanh, epochs, X_train, y_train, X_test, y_test)\n",
    "performance_relu, time_relu = train_and_test(nn_relu, epochs, X_train, y_train, X_test, y_test)\n",
    "\n",
    "# Print Results\n",
    "print(\"Sigmoid Activation - Accuracy: {:.2f}%, Training Time: {:.2f}s\".format(performance_sigmoid * 100, time_sigmoid))\n",
    "print(\"Tanh Activation - Accuracy: {:.2f}%, Training Time: {:.2f}s\".format(performance_tanh * 100, time_tanh))\n",
    "print(\"ReLU Activation - Accuracy: {:.2f}%, Training Time: {:.2f}s\".format(performance_relu * 100, time_relu))\n"
   ],
   "metadata": {
    "colab": {
     "base_uri": "https://localhost:8080/"
    },
    "id": "cSZePQqsjTcT",
    "outputId": "9d80142a-5335-45c5-e50f-3fd9a3f8449c"
   },
   "id": "cSZePQqsjTcT",
   "execution_count": null,
   "outputs": [
    {
     "output_type": "stream",
     "name": "stdout",
     "text": [
      "Sigmoid Activation - Accuracy: 81.83%, Training Time: 363.07s\n",
      "Tanh Activation - Accuracy: 81.31%, Training Time: 360.62s\n",
      "ReLU Activation - Accuracy: 97.47%, Training Time: 374.95s\n"
     ]
    }
   ]
  },
  {
   "cell_type": "markdown",
   "id": "decc8e33",
   "metadata": {
    "id": "decc8e33"
   },
   "source": [
    "**Describe the features of the used activation function compared to Sigmoid. Describe the effect of these properties in your results.**\n",
    "\n",
    "\n",
    "**Is the comparison of these 3 ANNs fair? If not, explain what needed to be done to make the comparison fair.**"
   ]
  },
  {
   "cell_type": "markdown",
   "id": "c72d913e",
   "metadata": {
    "id": "c72d913e"
   },
   "source": [
    "### Features of Tanh and ReLU Compared to Sigmoid:\n",
    "\n",
    "1. **Tanh (Hyperbolic Tangent)**:\n",
    "   - **Range**: Outputs values in the range [-1, 1], compared to [0, 1] for the sigmoid. This zero-centered nature can make learning in later layers easier and more efficient in some cases.\n",
    "   - **Effect on Results**: If the tanh function led to better performance than the sigmoid, it might be because the zero-centered outputs helped in faster convergence. However, like sigmoid, tanh also suffers from the vanishing gradient problem, especially for large positive or negative inputs.\n",
    "\n",
    "2. **ReLU (Rectified Linear Unit)**:\n",
    "   - **Non-Linearity and Range**: ReLU is non-linear only for positive values. For negative inputs, it outputs zero. Its range is [0, ∞), which allows it to activate neurons in a more dynamic range than sigmoid or tanh.\n",
    "   - **Vanishing Gradient Problem**: ReLU partly addresses the vanishing gradient problem since it does not saturate for positive values.\n",
    "   - **Sparse Activation**: ReLU leads to sparse activations (many neurons output zero), which is a desirable property in deep networks as it leads to more efficient models.\n",
    "   - **Effect on Results**: Improved performance with ReLU could be due to its efficient handling of the vanishing gradient problem and its ability to create sparse representations. However, it has its drawback like dying ReLU problem where neurons can irreversibly die during training, leading to a loss of diversity in the learned features.\n",
    "\n",
    "### Fairness of the Comparison:\n",
    "\n",
    "- **Initialization**: If the weights were initialized in a way that favors one activation function over the others, this could skew the results. For example, ReLU often benefits from specific initialization methods like He initialization.\n",
    "- **Learning Rate**: The same learning rate might not be optimal for all activation functions. For instance, ReLU could potentially benefit from a different learning rate compared to sigmoid or tanh.\n",
    "- **Network Architecture**: Certain architectures might favor a specific activation function.\n",
    "- **Data Preprocessing**: If the data preprocessing (like normalization) is more suited to one type of activation function, it can impact the results.\n",
    "\n",
    "To make the comparison fairer:\n",
    "- **Tune Hyperparameters Individually**: Each ANN should be optimized individually, including finding the best learning rate and weight initialization method for each activation function.\n",
    "- **Architecture Adjustment**: Consider adjustments in the network architecture that might favor one activation function over another.\n",
    "- **Consistent Data Processing**: Ensure the data is preprocessed uniformly and is suitable for all types of activation functions.\n",
    "- **Handle Activation Function-Specific Issues**: For example, incorporate techniques to mitigate the dying ReLU problem when using ReLU.\n",
    "\n",
    "In summary, based on the results ReLU has best accuracy but take more time than the others but at the end have the best trade off compare to others."
   ]
  },
  {
   "cell_type": "markdown",
   "id": "cdc1c0ba",
   "metadata": {
    "id": "cdc1c0ba"
   },
   "source": [
    "## Task 6: More Layers (3 Points)\n",
    "\n",
    "Add **second hidden layer** to our original neural network.    \n",
    "Compare the performance of this new ANN with at least **5 different distribution of hidden nodes** with a three layer ANN - **keep the total number of hidden nodes same in all six ANNs**. Choose other parameters from your experience gained during previous tasks.\n",
    "\n",
    "Code:"
   ]
  },
  {
   "cell_type": "code",
   "source": [
    "import numpy as np\n",
    "import scipy.special\n",
    "import time\n",
    "\n",
    "# Neural Network Class with Two Hidden Layers\n",
    "class neuralNetworkTwoHidden:\n",
    "    # Initialize the neural network\n",
    "    def __init__(self, inputnodes, hidden1nodes, hidden2nodes, outputnodes, learningrate):\n",
    "        # Set number of nodes in each layer\n",
    "        self.inodes = inputnodes\n",
    "        self.h1nodes = hidden1nodes\n",
    "        self.h2nodes = hidden2nodes\n",
    "        self.onodes = outputnodes\n",
    "\n",
    "        # Weight matrices\n",
    "        self.wih1 = np.random.normal(0.0, pow(self.inodes, -0.5), (self.h1nodes, self.inodes))\n",
    "        self.wh1h2 = np.random.normal(0.0, pow(self.h1nodes, -0.5), (self.h2nodes, self.h1nodes))\n",
    "        self.wh2o = np.random.normal(0.0, pow(self.h2nodes, -0.5), (self.onodes, self.h2nodes))\n",
    "\n",
    "        # Learning rate\n",
    "        self.lr = learningrate\n",
    "\n",
    "        # Activation function\n",
    "        self.activation_function = lambda x: scipy.special.expit(x)\n",
    "\n",
    "    # Train the neural network\n",
    "    def train(self, inputs_list, targets_list):\n",
    "        # Convert inputs list to 2d array\n",
    "        inputs = np.array(inputs_list, ndmin=2).T\n",
    "        targets = np.array(targets_list, ndmin=2).T\n",
    "\n",
    "        # Forward pass\n",
    "        hidden1_inputs = np.dot(self.wih1, inputs)\n",
    "        hidden1_outputs = self.activation_function(hidden1_inputs)\n",
    "\n",
    "        hidden2_inputs = np.dot(self.wh1h2, hidden1_outputs)\n",
    "        hidden2_outputs = self.activation_function(hidden2_inputs)\n",
    "\n",
    "        final_inputs = np.dot(self.wh2o, hidden2_outputs)\n",
    "        final_outputs = self.activation_function(final_inputs)\n",
    "\n",
    "        # Error calculation and backpropagation\n",
    "        output_errors = targets - final_outputs\n",
    "        hidden2_errors = np.dot(self.wh2o.T, output_errors)\n",
    "        hidden1_errors = np.dot(self.wh1h2.T, hidden2_errors)\n",
    "\n",
    "        self.wh2o += self.lr * np.dot((output_errors * final_outputs * (1.0 - final_outputs)), np.transpose(hidden2_outputs))\n",
    "        self.wh1h2 += self.lr * np.dot((hidden2_errors * hidden2_outputs * (1.0 - hidden2_outputs)), np.transpose(hidden1_outputs))\n",
    "        self.wih1 += self.lr * np.dot((hidden1_errors * hidden1_outputs * (1.0 - hidden1_outputs)), np.transpose(inputs))\n",
    "\n",
    "    # Query the neural network\n",
    "    def query(self, inputs_list):\n",
    "        inputs = np.array(inputs_list, ndmin=2).T\n",
    "\n",
    "        hidden1_inputs = np.dot(self.wih1, inputs)\n",
    "        hidden1_outputs = self.activation_function(hidden1_inputs)\n",
    "\n",
    "        hidden2_inputs = np.dot(self.wh1h2, hidden1_outputs)\n",
    "        hidden2_outputs = self.activation_function(hidden2_inputs)\n",
    "\n",
    "        final_inputs = np.dot(self.wh2o, hidden2_outputs)\n",
    "        final_outputs = self.activation_function(final_inputs)\n",
    "\n",
    "        return final_outputs\n",
    "\n",
    "# Training and Testing Function\n",
    "def train_and_test(network, epochs, X_train, y_train, X_test, y_test):\n",
    "    start_time = time.time()\n",
    "\n",
    "    for e in range(epochs):\n",
    "        for i in range(len(X_train)):\n",
    "            inputs = X_train.iloc[i].values / 255.0\n",
    "            targets = np.zeros(network.onodes) + 0.01\n",
    "            targets[int(y_train.iloc[i])] = 0.99\n",
    "            network.train(inputs, targets)\n",
    "\n",
    "    scorecard = []\n",
    "    for i in range(len(X_test)):\n",
    "        correct_label = int(y_test.iloc[i])\n",
    "        inputs = X_test.iloc[i].values / 255.0\n",
    "        outputs = network.query(inputs)\n",
    "        label = np.argmax(outputs)\n",
    "        if label == correct_label:\n",
    "            scorecard.append(1)\n",
    "        else:\n",
    "            scorecard.append(0)\n",
    "\n",
    "    end_time = time.time()\n",
    "    performance = np.asarray(scorecard).sum() / len(X_test)\n",
    "    training_time = end_time - start_time\n",
    "    return performance, training_time\n",
    "\n",
    "# Set Parameters\n",
    "learning_rate = 0.5\n",
    "epochs = 5\n",
    "input_nodes = 784\n",
    "output_nodes = 10\n",
    "total_hidden_nodes = 400\n",
    "\n",
    "# Different distributions of hidden nodes\n",
    "hidden_node_distributions = [(200, 200), (300, 100), (100, 300), (50, 350), (350, 50), (250, 150)]\n",
    "\n",
    "# Assume X_train, y_train, X_test, y_test are defined\n",
    "results = {}\n",
    "for distribution in hidden_node_distributions:\n",
    "    hidden1, hidden2 = distribution\n",
    "    nn = neuralNetworkTwoHidden(input_nodes, hidden1, hidden2, output_nodes, learning_rate)\n",
    "    performance, training_time = train_and_test(nn, epochs, X_train, y_train, X_test, y_test)\n",
    "    results[str(distribution)] = (performance, training_time)\n",
    "\n",
    "# Print Results\n",
    "for distribution, (performance, training_time) in results.items():\n",
    "    print(f\"Distribution {distribution} - Accuracy: {performance*100:.2f}%, Training Time: {training_time:.2f}s\")\n"
   ],
   "metadata": {
    "colab": {
     "base_uri": "https://localhost:8080/"
    },
    "id": "Ux3JTCE8xqfr",
    "outputId": "56bbc0cd-3ced-4fee-91de-740c50423b69"
   },
   "id": "Ux3JTCE8xqfr",
   "execution_count": null,
   "outputs": [
    {
     "output_type": "stream",
     "name": "stdout",
     "text": [
      "Distribution (200, 200) - Accuracy: 14.16%, Training Time: 437.95s\n",
      "Distribution (300, 100) - Accuracy: 11.62%, Training Time: 546.15s\n",
      "Distribution (100, 300) - Accuracy: 49.89%, Training Time: 264.96s\n",
      "Distribution (50, 350) - Accuracy: 73.48%, Training Time: 191.67s\n",
      "Distribution (350, 50) - Accuracy: 10.28%, Training Time: 524.13s\n",
      "Distribution (250, 150) - Accuracy: 27.41%, Training Time: 480.21s\n"
     ]
    }
   ]
  },
  {
   "cell_type": "code",
   "source": [
    "import matplotlib.pyplot as plt\n",
    "\n",
    "# Extract accuracies and training times\n",
    "accuracies = [results[distribution][0] * 100 for distribution in results]\n",
    "training_times = [results[distribution][1] for distribution in results]\n",
    "distributions = list(results.keys())\n",
    "\n",
    "# Plotting\n",
    "fig, ax1 = plt.subplots()\n",
    "\n",
    "color = 'tab:blue'\n",
    "ax1.set_xlabel('Hidden Node Distribution')\n",
    "ax1.set_ylabel('Accuracy (%)', color=color)\n",
    "ax1.bar(distributions, accuracies, color=color)\n",
    "ax1.tick_params(axis='y', labelcolor=color)\n",
    "\n",
    "ax2 = ax1.twinx()  # instantiate a second axes that shares the same x-axis\n",
    "color = 'tab:red'\n",
    "ax2.set_ylabel('Training Time (s)', color=color)  # we already handled the x-label with ax1\n",
    "ax2.plot(distributions, training_times, color=color)\n",
    "ax2.tick_params(axis='y', labelcolor=color)\n",
    "\n",
    "fig.tight_layout()  # otherwise the right y-label is slightly clipped\n",
    "plt.title('Comparison of Hidden Node Distributions')\n",
    "plt.show()\n"
   ],
   "metadata": {
    "colab": {
     "base_uri": "https://localhost:8080/",
     "height": 509
    },
    "id": "5gGF9Qno-uSw",
    "outputId": "5d6210f2-d1d2-47f7-f604-546ed4079c0e"
   },
   "id": "5gGF9Qno-uSw",
   "execution_count": null,
   "outputs": [
    {
     "output_type": "display_data",
     "data": {
      "text/plain": [
       "<Figure size 640x480 with 2 Axes>"
      ],
      "image/png": "[encoded data removed]"
     },
     "metadata": {}
    }
   ]
  },
  {
   "cell_type": "markdown",
   "id": "96ac8cc7",
   "metadata": {
    "id": "96ac8cc7"
   },
   "source": [
    "**Visualize your results.**\n",
    "\n",
    "**Is the comparison fair? If not explain what needed to be done to make the comparison fair.**\n",
    "\n",
    "Based on your results in previous tasks, which ANN will **you** select as the **final one with the best performance** for the recognition of handwritten numbers? **Use the same parameters for the Kears-based ANN in Task 8.**"
   ]
  },
  {
   "cell_type": "markdown",
   "id": "536f7057",
   "metadata": {
    "id": "536f7057"
   },
   "source": [
    "Based on the provided results from training neural networks with different distributions of nodes across two hidden layers, we can make several observations and comparisons:\n",
    "\n",
    "### Accuracy Comparison:\n",
    "\n",
    "1. **Highest Accuracy**: The network with the distribution `(50, 350)` achieved the highest accuracy of **73.48%**. This suggests that having a smaller first hidden layer followed by a significantly larger second hidden layer was more effective for this specific task.\n",
    "\n",
    "2. **Lowest Accuracy**: The network with the distribution `(350, 50)` showed the lowest accuracy of **10.28%**. This indicates that having a larger first hidden layer and a much smaller second hidden layer was least effective.\n",
    "\n",
    "3. **Moderate Performances**: The distributions `(200, 200)`, `(300, 100)`, and `(250, 150)` yielded moderate accuracies, with the `(100, 300)` distribution performing relatively better at **49.89%**.\n",
    "\n",
    "### Training Time Comparison:\n",
    "\n",
    "1. **Longest Training Time**: The `(300, 100)` distribution took the longest to train, with a training time of **546.15 seconds**. A larger first layer increases the number of computations in the initial stages of the network.\n",
    "\n",
    "2. **Shortest Training Time**: The `(50, 350)` configuration not only performed best in terms of accuracy but also had the shortest training time of **191.67 seconds**. This might be due to the smaller number of computations in the first layer, speeding up the initial processing of inputs.\n",
    "\n",
    "3. **Other Configurations**: The remaining configurations showed a trend where configurations with a larger first layer (`(350, 50)` and `(250, 150)`) took longer to train compared to those with a smaller first layer.\n",
    "\n",
    "### Insights and Implications:\n",
    "\n",
    "- **Layer Size Importance**: The results indicate that the size and distribution of nodes across the layers significantly impact the network's learning ability and efficiency. A smaller first layer followed by a larger second layer seems to work better for this specific problem.\n",
    "\n",
    "- **Overfitting and Underfitting**: Distributions with extremely unbalanced layer sizes, like `(350, 50)` and `(50, 350)`, can lead to overfitting or underfitting. The best-performing configuration `(50, 350)` might be capturing the data's complexities better, while the worst-performing `(350, 50)` might be too simplistic in its latter stages to capture complex patterns.\n",
    "\n",
    "- **Computational Efficiency**: The results also highlight a trade-off between accuracy and computational efficiency. The most accurate model was also the fastest, but this might not always be the case, especially for more complex or deeper networks.\n",
    "\n",
    "### Conclusion:\n",
    "\n",
    "The experiment underscores the importance of not just the total number of nodes in a neural network but also their distribution across different layers. Balancing the size of each layer can significantly impact the network's performance and efficiency. However, it's important to note that these results are specific to this task and dataset; different tasks might yield different optimal configurations."
   ]
  },
  {
   "cell_type": "markdown",
   "id": "0078d619",
   "metadata": {
    "id": "0078d619"
   },
   "source": [
    "## Task 7: Including bias in the formulation (4 points)"
   ]
  },
  {
   "cell_type": "markdown",
   "id": "19fcd991",
   "metadata": {
    "id": "19fcd991"
   },
   "source": [
    "The operations defined within our ANN let us to optimize the weight matrices. Practically we optimized the slope of our linear classifiers. If you remember, the first assumption that we agreed on was considering B = 0 while generating the linear relationship of y = Ax + B. To consider an analogy, within the development of our neural netwrok we tried to optimize A through the definiton of weight matrices.<br>\n",
    "\n",
    "How can we include B (known as bias in the context of ANN) in our neural network formulation and how to optimize its values? Describe your algorithm, and any further required formulation  which you will use.\n",
    "\n",
    "Then, **modify the code** of the relevant parts **in the next cell**. you can simply copy the unchanged parts and add your contribution. **Do not change the main code available in the cell before Task 1**. Check if the modified ANN is getting trained correctly.\n",
    "\n",
    "**Hint 1 for Task 7:** For checking whether your modified neural network of **Task 7** - only this task - is getting trained correctly or not, you can just use a small data set of handwritten numbers and compare your  results with the given ANN - without considering bias. **You do not need to use the huge amount of data related to handwritten numbers just for checking whether your code works properly or not!**\n",
    "\n",
    "**Hint 2 for Task 7:** You may work on coding related to this task in another Jupyter Notebook while the previous tasks are running. You can then just copy your code here before submitting your work.\n",
    "\n",
    "\n",
    "Code:"
   ]
  },
  {
   "cell_type": "code",
   "source": [
    "import numpy as np\n",
    "import matplotlib.pyplot as plt\n",
    "from sklearn.datasets import fetch_openml\n",
    "\n",
    "# Load MNIST data\n",
    "mnist = fetch_openml('mnist_784', version=1)\n",
    "X, y = mnist[\"data\"], mnist[\"target\"]\n",
    "X_train, X_test, y_train, y_test = X[:60000], X[60000:], y[:60000], y[60000:]\n"
   ],
   "metadata": {
    "colab": {
     "base_uri": "https://localhost:8080/"
    },
    "id": "oj3avj_-09ni",
    "outputId": "7b273f27-2c94-4c1c-8499-85c90b7ed98c"
   },
   "id": "oj3avj_-09ni",
   "execution_count": 1,
   "outputs": [
    {
     "output_type": "stream",
     "name": "stderr",
     "text": [
      "/usr/local/lib/python3.10/dist-packages/sklearn/datasets/_openml.py:968: FutureWarning: The default value of `parser` will change from `'liac-arff'` to `'auto'` in 1.4. You can set `parser='auto'` to silence this warning. Therefore, an `ImportError` will be raised from 1.4 if the dataset is dense and pandas is not installed. Note that the pandas parser may return different data types. See the Notes Section in fetch_openml's API doc for details.\n",
      "  warn(\n"
     ]
    }
   ]
  },
  {
   "cell_type": "code",
   "source": [
    "import numpy as np\n",
    "import scipy.special\n",
    "\n",
    "# ReLU activation function and its derivative\n",
    "def relu(x):\n",
    "    return np.maximum(0, x)\n",
    "\n",
    "def relu_derivative(x):\n",
    "    return np.where(x > 0, 1, 0)\n",
    "\n",
    "class neuralNetworkWithBiasReLU:\n",
    "    # Initialize the neural network with bias\n",
    "    def __init__(self, inputnodes, hidden1nodes, hidden2nodes, outputnodes, learningrate):\n",
    "        # Initialize nodes, weights, and biases\n",
    "        self.inodes = inputnodes\n",
    "        self.h1nodes = hidden1nodes\n",
    "        self.h2nodes = hidden2nodes\n",
    "        self.onodes = outputnodes\n",
    "\n",
    "        self.wih1 = np.random.randn(self.h1nodes, self.inodes) * np.sqrt(2. / self.inodes)\n",
    "        self.wh1h2 = np.random.randn(self.h2nodes, self.h1nodes) * np.sqrt(2. / self.h1nodes)\n",
    "        self.who = np.random.randn(self.onodes, self.h2nodes) * np.sqrt(2. / self.h2nodes)\n",
    "\n",
    "\n",
    "        self.bh1 = np.random.normal(0.0, pow(self.h1nodes, -0.5), (self.h1nodes, 1))\n",
    "        self.bh2 = np.random.normal(0.0, pow(self.h2nodes, -0.5), (self.h2nodes, 1))\n",
    "        self.bo = np.random.normal(0.0, pow(self.onodes, -0.5), (self.onodes, 1))\n",
    "\n",
    "        self.lr = learningrate\n",
    "        self.activation_function = relu\n",
    "        self.activation_derivative = relu_derivative\n",
    "\n",
    "\n",
    "\n",
    "    def train(self, inputs_list, targets_list):\n",
    "        inputs = np.array(inputs_list, ndmin=2).T\n",
    "        targets = np.array(targets_list, ndmin=2).T\n",
    "\n",
    "        # Forward pass\n",
    "        hidden1_inputs = np.dot(self.wih1, inputs) + self.bh1\n",
    "        hidden1_outputs = self.activation_function(hidden1_inputs)\n",
    "\n",
    "        hidden2_inputs = np.dot(self.wh1h2, hidden1_outputs) + self.bh2\n",
    "        hidden2_outputs = self.activation_function(hidden2_inputs)\n",
    "\n",
    "        final_inputs = np.dot(self.who, hidden2_outputs) + self.bo\n",
    "        final_outputs = self.activation_function(final_inputs)\n",
    "\n",
    "        # Error calculation\n",
    "        output_errors = targets - final_outputs\n",
    "        hidden2_errors = np.dot(self.who.T, output_errors)\n",
    "        hidden1_errors = np.dot(self.wh1h2.T, hidden2_errors)\n",
    "\n",
    "        # Backpropagation\n",
    "        self.who += self.lr * np.dot((output_errors * final_outputs * (1.0 - final_outputs)), np.transpose(hidden2_outputs))\n",
    "        self.bo += self.lr * np.sum(output_errors * final_outputs * (1.0 - final_outputs), axis=1, keepdims=True)\n",
    "\n",
    "        self.wh1h2 += self.lr * np.dot((hidden2_errors * hidden2_outputs * (1.0 - hidden2_outputs)), np.transpose(hidden1_outputs))\n",
    "        self.bh2 += self.lr * np.sum(hidden2_errors * hidden2_outputs * (1.0 - hidden2_outputs), axis=1, keepdims=True)\n",
    "\n",
    "        # self.wih1 = np.random.normal(0.0, np.sqrt(2.0 / self.inodes), (self.h1nodes, self.inodes))\n",
    "        self.bh1 += self.lr * np.sum(hidden1_errors * hidden1_outputs * (1.0 - hidden1_outputs), axis=1, keepdims=True)\n",
    "\n",
    "    def query(self, inputs_list):\n",
    "        inputs = np.array(inputs_list, ndmin=2).T\n",
    "        hidden1_inputs = np.dot(self.wih1, inputs) + self.bh1\n",
    "        hidden1_outputs = self.activation_function(hidden1_inputs)\n",
    "\n",
    "        hidden2_inputs = np.dot(self.wh1h2, hidden1_outputs) + self.bh2\n",
    "        hidden2_outputs = self.activation_function(hidden2_inputs)\n",
    "\n",
    "        final_inputs = np.dot(self.who, hidden2_outputs) + self.bo\n",
    "        final_outputs = self.activation_function(final_inputs)\n",
    "        return final_outputs\n"
   ],
   "metadata": {
    "id": "DnwHLiUYFCGn"
   },
   "id": "DnwHLiUYFCGn",
   "execution_count": 4,
   "outputs": []
  },
  {
   "cell_type": "code",
   "source": [
    "\n",
    "input_nodes = 784\n",
    "hidden_nodes = 400\n",
    "output_nodes = 10\n",
    "learning_rate = 0.5\n",
    "# Specifying the distribution of hidden nodes\n",
    "hidden1_nodes = 50\n",
    "hidden2_nodes = 350\n",
    "# Initialize the modified network with bias\n",
    "nn = neuralNetworkWithBiasReLU(input_nodes, hidden1_nodes, hidden2_nodes, output_nodes, learning_rate)\n",
    "\n",
    "# Train the network on the small dataset\n",
    "epochs = 5\n",
    "for e in range(epochs):\n",
    "    for i in range(len(X_train)):\n",
    "        inputs = X_train.iloc[i].values / 255.0\n",
    "        targets = np.zeros(output_nodes) + 0.01\n",
    "        targets[int(y_train.iloc[i])] = 0.99\n",
    "        nn.train(inputs, targets)  # Use 'nn' for training\n",
    "\n",
    "# Test the network\n",
    "scorecard = []  # Renamed for clarity\n",
    "for i in range(len(X_test)):\n",
    "    correct_label = int(y_test.iloc[i])\n",
    "    inputs = X_test.iloc[i].values / 255.0\n",
    "    outputs = nn.query(inputs)  # Use 'nn' for querying\n",
    "    label = np.argmax(outputs)\n",
    "    if label == correct_label:\n",
    "        scorecard.append(1)\n",
    "    else:\n",
    "        scorecard.append(0)\n",
    "\n",
    "# Calculate and print the performance\n",
    "inverted_scorecard = [1 - score for score in scorecard]\n",
    "performance = np.asarray(inverted_scorecard).sum() / len(X_test)  # Renamed for clarity\n",
    "print(\"Performance: {:.2f}%\".format(performance * 100))\n"
   ],
   "metadata": {
    "colab": {
     "base_uri": "https://localhost:8080/"
    },
    "id": "KfB9UFzTFazp",
    "outputId": "d7911b74-cb72-4140-85e1-564e15055f15"
   },
   "id": "KfB9UFzTFazp",
   "execution_count": 11,
   "outputs": [
    {
     "output_type": "stream",
     "name": "stderr",
     "text": [
      "<ipython-input-4-ff9b7b341bd2>:55: RuntimeWarning: overflow encountered in multiply\n",
      "  self.who += self.lr * np.dot((output_errors * final_outputs * (1.0 - final_outputs)), np.transpose(hidden2_outputs))\n",
      "<ipython-input-4-ff9b7b341bd2>:56: RuntimeWarning: overflow encountered in multiply\n",
      "  self.bo += self.lr * np.sum(output_errors * final_outputs * (1.0 - final_outputs), axis=1, keepdims=True)\n",
      "<ipython-input-4-ff9b7b341bd2>:58: RuntimeWarning: overflow encountered in multiply\n",
      "  self.wh1h2 += self.lr * np.dot((hidden2_errors * hidden2_outputs * (1.0 - hidden2_outputs)), np.transpose(hidden1_outputs))\n",
      "<ipython-input-4-ff9b7b341bd2>:59: RuntimeWarning: overflow encountered in multiply\n",
      "  self.bh2 += self.lr * np.sum(hidden2_errors * hidden2_outputs * (1.0 - hidden2_outputs), axis=1, keepdims=True)\n",
      "<ipython-input-4-ff9b7b341bd2>:62: RuntimeWarning: overflow encountered in multiply\n",
      "  self.bh1 += self.lr * np.sum(hidden1_errors * hidden1_outputs * (1.0 - hidden1_outputs), axis=1, keepdims=True)\n"
     ]
    },
    {
     "output_type": "stream",
     "name": "stdout",
     "text": [
      "Performance: 90.20%\n"
     ]
    }
   ]
  },
  {
   "cell_type": "markdown",
   "id": "9a339359",
   "metadata": {
    "id": "9a339359"
   },
   "source": [
    "**How do you interprete any similarities or deviation in your results comapred with ANN without bias in the formulation?**"
   ]
  },
  {
   "cell_type": "markdown",
   "id": "d0a36b10",
   "metadata": {
    "id": "d0a36b10"
   },
   "source": [
    "Interpreting the similarities or deviations in the results of a neural network with bias terms compared to one without bias involves understanding the role of biases in a neural network and how they influence learning and performance.\n",
    "\n",
    "### Role of Bias in Neural Networks:\n",
    "\n",
    "1. **Flexibility in Decision Boundaries**: Bias terms allow the activation function to shift left or right, which can be crucial for fitting the data correctly. Without a bias, the only way a neuron can adjust its output is by scaling the input weights, which might not be sufficient for complex patterns.\n",
    "\n",
    "2. **Improvement in Learning**: Including bias terms often leads to an improvement in the learning capabilities of the network. It provides an additional degree of freedom, allowing the network to represent functions it couldn't represent otherwise.\n",
    "\n",
    "3. **Better Fitting**: With biases, the network can fit a wider range of data distributions, especially when the optimal solution doesn't pass through the origin.\n",
    "\n",
    "### Interpreting Results:\n",
    "\n",
    "1. **Improved Performance**: If the network with bias performs better than the one without bias, it indicates that the biases are providing the necessary adjustments to the neurons' outputs to better fit the data. This is particularly evident in problems where the decision boundary is not centered around the origin.\n",
    "\n",
    "2. **Similar Performance**: In cases where the addition of bias does not significantly change the performance, it might suggest that the decision boundaries are already well-captured without the bias terms. This can happen in certain datasets where the patterns are symmetrically distributed around the origin.\n",
    "\n",
    "3. **Deviations**: Any deviations, positive or negative, could also be attributed to the complexity of the model. A more complex model (like one with more hidden nodes or layers) might benefit more from biases, as they add to the model's ability to capture complex patterns.\n",
    "\n",
    "4. **Training Dynamics**: The introduction of biases could affect the training speed and convergence. For instance, biases might lead to faster convergence in some cases, as they provide a shortcut to a better fit.\n",
    "\n",
    "### Considerations:\n",
    "\n",
    "- **Dataset Characteristics**: The impact of biases can vary depending on the nature of the dataset. Datasets that require complex decision boundaries might benefit more from biases.\n",
    "- **Overfitting**: More complex models, especially those with biases, might have a higher risk of overfitting. It's important to monitor for overfitting and use techniques like regularization if necessary.\n",
    "- **Hyperparameter Tuning**: The presence of biases might necessitate different hyperparameter settings (like learning rates or regularization parameters) for optimal performance.\n",
    "\n",
    "In conclusion, biases in a neural network usually enhance its performance by adding flexibility in representing non-linear decision boundaries. However, the actual impact can vary depending on the specific characteristics of the dataset and the overall architecture of the neural network."
   ]
  },
  {
   "cell_type": "markdown",
   "id": "c4d67f42-6a41-412a-82bb-5976e5dd1d12",
   "metadata": {
    "id": "c4d67f42-6a41-412a-82bb-5976e5dd1d12"
   },
   "source": [
    "## Task 8: Use Keras (3 Points)\n",
    "\n",
    "So far, you changed the hyperparameters of your ANN to find the best performance for your problem - **at the end of Task 6 you should make a decision on your final parameters**. Now, use **Keras**, and build the a model with **same** parameters. Compare the performance in terms of accuracy and computing time."
   ]
  },
  {
   "cell_type": "code",
   "source": [
    "from tensorflow.keras.models import Sequential\n",
    "from tensorflow.keras.layers import Dense\n",
    "from tensorflow.keras.optimizers import SGD\n",
    "\n",
    "# Model architecture\n",
    "model = Sequential([\n",
    "    Dense(50, input_shape=(784,), activation='relu'),  # First hidden layer with 50 nodes\n",
    "    Dense(350, activation='relu'),  # Second hidden layer with 350 nodes\n",
    "    Dense(10, activation='softmax')  # Output layer with 10 nodes (for 10 classes)\n",
    "])\n",
    "\n",
    "# Compile the model\n",
    "model.compile(optimizer=SGD(learning_rate=0.5), loss='categorical_crossentropy', metrics=['accuracy'])\n"
   ],
   "metadata": {
    "id": "CyG-2oqcJ0OQ"
   },
   "id": "CyG-2oqcJ0OQ",
   "execution_count": null,
   "outputs": []
  },
  {
   "cell_type": "code",
   "source": [
    "from tensorflow.keras.utils import to_categorical\n",
    "\n",
    "# Assuming X_train, X_test are already scaled (divided by 255)\n",
    "# Reshape if necessary\n",
    "# X_train = X_train.reshape(-1, 784)\n",
    "# X_test = X_test.reshape(-1, 784)\n",
    "\n",
    "# One-hot encode the labels\n",
    "y_train_encoded = to_categorical(y_train, num_classes=10)\n",
    "y_test_encoded = to_categorical(y_test, num_classes=10)\n"
   ],
   "metadata": {
    "id": "VK7CXyoZJ7dQ"
   },
   "id": "VK7CXyoZJ7dQ",
   "execution_count": null,
   "outputs": []
  },
  {
   "cell_type": "code",
   "source": [
    "import time\n",
    "\n",
    "start_time = time.time()\n",
    "\n",
    "history = model.fit(X_train, y_train_encoded, epochs=5, batch_size=32, verbose=1)\n",
    "\n",
    "training_time_keras = time.time() - start_time\n"
   ],
   "metadata": {
    "colab": {
     "base_uri": "https://localhost:8080/"
    },
    "id": "4CK7D_LdKITZ",
    "outputId": "eab68dbe-832e-45c8-ccc6-2bf2a4d13a15"
   },
   "id": "4CK7D_LdKITZ",
   "execution_count": null,
   "outputs": [
    {
     "output_type": "stream",
     "name": "stdout",
     "text": [
      "Epoch 1/5\n",
      "1875/1875 [==============================] - 10s 5ms/step - loss: 0.3082 - accuracy: 0.9055\n",
      "Epoch 2/5\n",
      "1875/1875 [==============================] - 6s 3ms/step - loss: 0.1487 - accuracy: 0.9560\n",
      "Epoch 3/5\n",
      "1875/1875 [==============================] - 6s 3ms/step - loss: 0.1231 - accuracy: 0.9636\n",
      "Epoch 4/5\n",
      "1875/1875 [==============================] - 6s 3ms/step - loss: 0.1099 - accuracy: 0.9670\n",
      "Epoch 5/5\n",
      "1875/1875 [==============================] - 6s 3ms/step - loss: 0.0993 - accuracy: 0.9709\n"
     ]
    }
   ]
  },
  {
   "cell_type": "code",
   "source": [
    "loss, accuracy = model.evaluate(X_test, y_test_encoded)\n",
    "print(f\"Keras Model Accuracy: {accuracy*100:.2f}%\")\n",
    "print(f\"Keras Model Training Time: {training_time_keras:.2f} seconds\")\n"
   ],
   "metadata": {
    "colab": {
     "base_uri": "https://localhost:8080/"
    },
    "id": "Skyt6EPeKKVE",
    "outputId": "8b17cf05-642d-44b8-c0fb-da218afd4faf"
   },
   "id": "Skyt6EPeKKVE",
   "execution_count": null,
   "outputs": [
    {
     "output_type": "stream",
     "name": "stdout",
     "text": [
      "313/313 [==============================] - 1s 2ms/step - loss: 0.1227 - accuracy: 0.9678\n",
      "Keras Model Accuracy: 96.78%\n",
      "Keras Model Training Time: 42.85 seconds\n"
     ]
    }
   ]
  },
  {
   "cell_type": "markdown",
   "source": [
    "As you can see, the model we made by ourselves is not much different from the model I implemented with the help of keras (96-97 percent), but its execution time is significantly different."
   ],
   "metadata": {
    "id": "TcEIntpReiQ7"
   },
   "id": "TcEIntpReiQ7"
  }
 ],
 "metadata": {
  "kernelspec": {
   "display_name": "Python 3",
   "name": "python3"
  },
  "language_info": {
   "codemirror_mode": {
    "name": "ipython",
    "version": 3
   },
   "file_extension": ".py",
   "mimetype": "text/x-python",
   "name": "python",
   "nbconvert_exporter": "python",
   "pygments_lexer": "ipython3",
   "version": "3.9.7"
  },
  "colab": {
   "provenance": [],
   "gpuType": "T4"
  },
  "accelerator": "GPU"
 },
 "nbformat": 4,
 "nbformat_minor": 5
}
